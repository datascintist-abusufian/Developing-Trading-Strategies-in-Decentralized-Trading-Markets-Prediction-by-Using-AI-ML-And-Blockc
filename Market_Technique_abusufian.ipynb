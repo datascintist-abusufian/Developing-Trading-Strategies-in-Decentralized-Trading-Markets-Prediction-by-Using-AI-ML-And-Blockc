{
 "cells": [
  {
   "cell_type": "markdown",
   "id": "33ec74cf",
   "metadata": {},
   "source": [
    "<b>##Title: Developing trading strategies for decentralized prediction markets by using ML, AI, and Blockchain techniques.</b>"
   ]
  },
  {
   "cell_type": "markdown",
   "id": "1f6cbe49",
   "metadata": {},
   "source": [
    "# Introduction:\n",
    "\n",
    "Trading volume is a significant financial metric that measures the number of shares traded in the stock market within a particular period. It is an important indicator of market liquidity, and it influences investors' decisions regarding buying or selling shares. Therefore, predicting trading volume accurately is crucial in the financial industry, and it can aid investors in making informed decisions and minimizing risks.\n",
    "\n",
    "Machine learning has been widely adopted in the financial industry to develop predictive models that can assist in making investment decisions. In this study, I will explore the use of machine learning models to predict trading volume using various economic indicators, such as GDP, liquidity, and volatility.\n",
    "\n",
    "Four regression models, namely linear regression, decision tree regressor, random forest regressor, and XGBoost regressor, will be implemented in predicting the trading volume. These models will be compared based on their performance, and the most accurate model will be recommended.\n",
    "\n",
    "The results of this study could provide valuable insights into predicting trading volume and could benefit investors, traders, and financial institutions. It is essential to acknowledge the ethical considerations in implementing these models in the financial industry, as machine learning models could have unintended consequences."
   ]
  },
  {
   "cell_type": "code",
   "execution_count": 7,
   "id": "fa7fb078",
   "metadata": {},
   "outputs": [],
   "source": [
    "import pandas as pd\n",
    "import numpy as np\n",
    "import seaborn as sns"
   ]
  },
  {
   "cell_type": "code",
   "execution_count": 9,
   "id": "53b9f20f",
   "metadata": {},
   "outputs": [],
   "source": [
    "import warnings\n",
    "warnings.filterwarnings('ignore')"
   ]
  },
  {
   "cell_type": "code",
   "execution_count": 10,
   "id": "3442d189",
   "metadata": {},
   "outputs": [
    {
     "data": {
      "text/html": [
       "<div>\n",
       "<style scoped>\n",
       "    .dataframe tbody tr th:only-of-type {\n",
       "        vertical-align: middle;\n",
       "    }\n",
       "\n",
       "    .dataframe tbody tr th {\n",
       "        vertical-align: top;\n",
       "    }\n",
       "\n",
       "    .dataframe thead th {\n",
       "        text-align: right;\n",
       "    }\n",
       "</style>\n",
       "<table border=\"1\" class=\"dataframe\">\n",
       "  <thead>\n",
       "    <tr style=\"text-align: right;\">\n",
       "      <th></th>\n",
       "      <th>Date</th>\n",
       "      <th>TRADING_VOLUME</th>\n",
       "      <th>LIQUIDITY</th>\n",
       "      <th>GDP</th>\n",
       "      <th>VOLATILITY</th>\n",
       "    </tr>\n",
       "  </thead>\n",
       "  <tbody>\n",
       "    <tr>\n",
       "      <th>0</th>\n",
       "      <td>2022-04-03</td>\n",
       "      <td>126.262543</td>\n",
       "      <td>16.920000</td>\n",
       "      <td>31721700.0</td>\n",
       "      <td>85.629997</td>\n",
       "    </tr>\n",
       "    <tr>\n",
       "      <th>1</th>\n",
       "      <td>2022-04-04</td>\n",
       "      <td>124.770988</td>\n",
       "      <td>17.889999</td>\n",
       "      <td>40640300.0</td>\n",
       "      <td>85.910004</td>\n",
       "    </tr>\n",
       "    <tr>\n",
       "      <th>2</th>\n",
       "      <td>2022-04-05</td>\n",
       "      <td>125.876274</td>\n",
       "      <td>18.520000</td>\n",
       "      <td>29499700.0</td>\n",
       "      <td>86.239998</td>\n",
       "    </tr>\n",
       "    <tr>\n",
       "      <th>3</th>\n",
       "      <td>2022-04-06</td>\n",
       "      <td>128.359238</td>\n",
       "      <td>18.320000</td>\n",
       "      <td>52128000.0</td>\n",
       "      <td>86.169998</td>\n",
       "    </tr>\n",
       "    <tr>\n",
       "      <th>4</th>\n",
       "      <td>2022-04-07</td>\n",
       "      <td>127.715271</td>\n",
       "      <td>17.709999</td>\n",
       "      <td>30142300.0</td>\n",
       "      <td>86.010002</td>\n",
       "    </tr>\n",
       "  </tbody>\n",
       "</table>\n",
       "</div>"
      ],
      "text/plain": [
       "        Date  TRADING_VOLUME  LIQUIDITY         GDP  VOLATILITY\n",
       "0 2022-04-03      126.262543  16.920000  31721700.0   85.629997\n",
       "1 2022-04-04      124.770988  17.889999  40640300.0   85.910004\n",
       "2 2022-04-05      125.876274  18.520000  29499700.0   86.239998\n",
       "3 2022-04-06      128.359238  18.320000  52128000.0   86.169998\n",
       "4 2022-04-07      127.715271  17.709999  30142300.0   86.010002"
      ]
     },
     "execution_count": 10,
     "metadata": {},
     "output_type": "execute_result"
    }
   ],
   "source": [
    "df=pd.read_excel('/Users/mdabusufian/Downloads/Market_Indicator_Data_combined.xlsx')\n",
    "df=pd.DataFrame(df)\n",
    "df.head(5)"
   ]
  },
  {
   "cell_type": "code",
   "execution_count": 11,
   "id": "09995ec9",
   "metadata": {},
   "outputs": [
    {
     "name": "stdout",
     "output_type": "stream",
     "text": [
      "count    364.000000\n",
      "mean      98.366245\n",
      "std       16.232780\n",
      "min       74.312927\n",
      "25%       83.686569\n",
      "50%       98.556893\n",
      "75%      108.041652\n",
      "max      133.096725\n",
      "Name: TRADING_VOLUME, dtype: float64\n"
     ]
    }
   ],
   "source": [
    "import pandas as pd\n",
    "\n",
    "# Load the Excel file\n",
    "df = pd.read_excel('/Users/mdabusufian/Downloads/data_combined.xlsx')\n",
    "\n",
    "# Get summary statistics for the 'trading_volume' column\n",
    "summary_stats = df['TRADING_VOLUME'].describe()\n",
    "\n",
    "# Print summary statistics\n",
    "print(summary_stats)"
   ]
  },
  {
   "cell_type": "code",
   "execution_count": 12,
   "id": "7c3ce229",
   "metadata": {},
   "outputs": [],
   "source": [
    "##Statistical Summary of Market Indicator"
   ]
  },
  {
   "cell_type": "code",
   "execution_count": 13,
   "id": "781e9f5e",
   "metadata": {},
   "outputs": [
    {
     "name": "stdout",
     "output_type": "stream",
     "text": [
      "       TRADING_VOLUME   LIQUIDITY           GDP  VOLATILITY\n",
      "count      364.000000  251.000000  2.510000e+02  241.000000\n",
      "mean        98.366245   15.787291  3.457504e+07   82.002988\n",
      "std         16.232780    2.176146  2.191247e+07    1.984542\n",
      "min         74.312927   11.650000  1.200760e+07   78.519997\n",
      "25%         83.686569   13.865000  2.366770e+07   80.830002\n",
      "50%         98.556893   15.790000  2.902900e+07   81.699997\n",
      "75%        108.041652   17.390000  3.681175e+07   82.650002\n",
      "max        133.096725   22.410000  2.323166e+08   86.959999\n"
     ]
    }
   ],
   "source": [
    "summary_df = pd.read_excel('/Users/mdabusufian/Downloads/data_combined.xlsx').describe()\n",
    "\n",
    "# Select only the desired rows and columns using loc[]\n",
    "summary_df = summary_df.loc[['count', 'mean', 'std', 'min', '25%', '50%', '75%', 'max'], :]\n",
    "\n",
    "print(summary_df)"
   ]
  },
  {
   "cell_type": "markdown",
   "id": "d1d36859",
   "metadata": {},
   "source": [
    "## Data Preprocessing\n"
   ]
  },
  {
   "cell_type": "code",
   "execution_count": 14,
   "id": "c5ccd50d",
   "metadata": {},
   "outputs": [],
   "source": [
    "#Handling NAs\n",
    "df.dropna(inplace=True)"
   ]
  },
  {
   "cell_type": "markdown",
   "id": "6b92d891",
   "metadata": {},
   "source": [
    "## Exploratory analysis"
   ]
  },
  {
   "cell_type": "markdown",
   "id": "8e8d8426",
   "metadata": {},
   "source": [
    "## Statistical Summary"
   ]
  },
  {
   "cell_type": "code",
   "execution_count": 15,
   "id": "7e37be18",
   "metadata": {},
   "outputs": [
    {
     "data": {
      "text/plain": [
       "count    235.000000\n",
       "mean     106.010976\n",
       "std       13.634665\n",
       "min       80.618034\n",
       "25%       96.916748\n",
       "50%      102.361450\n",
       "75%      117.761375\n",
       "max      133.096725\n",
       "Name: TRADING_VOLUME, dtype: float64"
      ]
     },
     "execution_count": 15,
     "metadata": {},
     "output_type": "execute_result"
    }
   ],
   "source": [
    "df['TRADING_VOLUME'].describe()"
   ]
  },
  {
   "cell_type": "code",
   "execution_count": 16,
   "id": "c24f93d6",
   "metadata": {},
   "outputs": [
    {
     "data": {
      "text/plain": [
       "count    235.000000\n",
       "mean      15.848808\n",
       "std        2.186753\n",
       "min       11.650000\n",
       "25%       13.960000\n",
       "50%       15.980000\n",
       "75%       17.480000\n",
       "max       22.410000\n",
       "Name: LIQUIDITY, dtype: float64"
      ]
     },
     "execution_count": 16,
     "metadata": {},
     "output_type": "execute_result"
    }
   ],
   "source": [
    "df['LIQUIDITY'].describe()"
   ]
  },
  {
   "cell_type": "code",
   "execution_count": 17,
   "id": "e12ae6bf",
   "metadata": {},
   "outputs": [
    {
     "data": {
      "text/plain": [
       "count    2.350000e+02\n",
       "mean     3.446971e+07\n",
       "std      2.241082e+07\n",
       "min      1.200760e+07\n",
       "25%      2.356685e+07\n",
       "50%      2.868860e+07\n",
       "75%      3.666250e+07\n",
       "max      2.323166e+08\n",
       "Name: GDP, dtype: float64"
      ]
     },
     "execution_count": 17,
     "metadata": {},
     "output_type": "execute_result"
    }
   ],
   "source": [
    "df['GDP'].describe()"
   ]
  },
  {
   "cell_type": "code",
   "execution_count": 18,
   "id": "c7e7c11f",
   "metadata": {},
   "outputs": [
    {
     "data": {
      "text/plain": [
       "count    235.000000\n",
       "mean      82.031617\n",
       "std        2.001353\n",
       "min       78.519997\n",
       "25%       80.865002\n",
       "50%       81.769997\n",
       "75%       82.720001\n",
       "max       86.959999\n",
       "Name: VOLATILITY, dtype: float64"
      ]
     },
     "execution_count": 18,
     "metadata": {},
     "output_type": "execute_result"
    }
   ],
   "source": [
    "df['VOLATILITY'].describe()"
   ]
  },
  {
   "cell_type": "markdown",
   "id": "fc556673",
   "metadata": {},
   "source": [
    "A descriptive statistics table was presented to summarize four variables: trading volume, liquidity, GDP, and volatility. The table shows that there were 364 observations for trading volume, 251 observations for liquidity, 251 observations for GDP, and 241 observations for volatility. The mean trading volume was 98.37, the mean liquidity was 15.79, the mean GDP was 34,575,040, and the mean volatility was 82.00. The standard deviation of trading volume was 16.23, the standard deviation of liquidity was 2.18, the standard deviation of GDP was 21,912,470, and the standard deviation of volatility was 1.98. The minimum and maximum values of trading volume were 74.31 and 133.10, respectively. The minimum and maximum values of liquidity were 11.65 and 22.41, respectively. The minimum and maximum values of GDP were 12,007,600 and 232,316,600, respectively. The minimum and maximum values of volatility were 78.52 and 86.96, respectively. The first quartile trading volume was 83.69, and the third quartile was 108.04.\n",
    "\n",
    "\n",
    "\n",
    "\n",
    "\n"
   ]
  },
  {
   "cell_type": "markdown",
   "id": "3e8634d7",
   "metadata": {},
   "source": [
    "### Correlation"
   ]
  },
  {
   "cell_type": "code",
   "execution_count": 19,
   "id": "95f2ff05",
   "metadata": {},
   "outputs": [
    {
     "data": {
      "text/plain": [
       "<AxesSubplot:>"
      ]
     },
     "execution_count": 19,
     "metadata": {},
     "output_type": "execute_result"
    },
    {
     "data": {
      "image/png": "[encoded data removed]",
      "text/plain": [
       "<Figure size 432x288 with 2 Axes>"
      ]
     },
     "metadata": {
      "needs_background": "light"
     },
     "output_type": "display_data"
    }
   ],
   "source": [
    "#Correlation plot\n",
    "\n",
    "\n",
    "sns.heatmap(df.corr())"
   ]
  },
  {
   "cell_type": "code",
   "execution_count": 20,
   "id": "9ffffdaf",
   "metadata": {},
   "outputs": [
    {
     "data": {
      "text/html": [
       "<div>\n",
       "<style scoped>\n",
       "    .dataframe tbody tr th:only-of-type {\n",
       "        vertical-align: middle;\n",
       "    }\n",
       "\n",
       "    .dataframe tbody tr th {\n",
       "        vertical-align: top;\n",
       "    }\n",
       "\n",
       "    .dataframe thead th {\n",
       "        text-align: right;\n",
       "    }\n",
       "</style>\n",
       "<table border=\"1\" class=\"dataframe\">\n",
       "  <thead>\n",
       "    <tr style=\"text-align: right;\">\n",
       "      <th></th>\n",
       "      <th>TRADING_VOLUME</th>\n",
       "      <th>LIQUIDITY</th>\n",
       "      <th>GDP</th>\n",
       "      <th>VOLATILITY</th>\n",
       "    </tr>\n",
       "  </thead>\n",
       "  <tbody>\n",
       "    <tr>\n",
       "      <th>TRADING_VOLUME</th>\n",
       "      <td>1.000000</td>\n",
       "      <td>0.270454</td>\n",
       "      <td>-0.051961</td>\n",
       "      <td>0.677419</td>\n",
       "    </tr>\n",
       "    <tr>\n",
       "      <th>LIQUIDITY</th>\n",
       "      <td>0.270454</td>\n",
       "      <td>1.000000</td>\n",
       "      <td>0.073491</td>\n",
       "      <td>0.033131</td>\n",
       "    </tr>\n",
       "    <tr>\n",
       "      <th>GDP</th>\n",
       "      <td>-0.051961</td>\n",
       "      <td>0.073491</td>\n",
       "      <td>1.000000</td>\n",
       "      <td>-0.237772</td>\n",
       "    </tr>\n",
       "    <tr>\n",
       "      <th>VOLATILITY</th>\n",
       "      <td>0.677419</td>\n",
       "      <td>0.033131</td>\n",
       "      <td>-0.237772</td>\n",
       "      <td>1.000000</td>\n",
       "    </tr>\n",
       "  </tbody>\n",
       "</table>\n",
       "</div>"
      ],
      "text/plain": [
       "                TRADING_VOLUME  LIQUIDITY       GDP  VOLATILITY\n",
       "TRADING_VOLUME        1.000000   0.270454 -0.051961    0.677419\n",
       "LIQUIDITY             0.270454   1.000000  0.073491    0.033131\n",
       "GDP                  -0.051961   0.073491  1.000000   -0.237772\n",
       "VOLATILITY            0.677419   0.033131 -0.237772    1.000000"
      ]
     },
     "execution_count": 20,
     "metadata": {},
     "output_type": "execute_result"
    }
   ],
   "source": [
    "pearsoncorr = df.corr(method='pearson')\n",
    "pearsoncorr"
   ]
  },
  {
   "cell_type": "markdown",
   "id": "5ca06efa",
   "metadata": {},
   "source": [
    "A correlation analysis was conducted to investigate the relationships between market indicators, social media sentiment, economic indicators, and user behavior in decentralized prediction markets. The results showed that trading volume and liquidity had a weak positive correlation (r = 0.233, p < .05), trading volume and GDP had a weak negative correlation (r = -0.047, p < .05), trading volume and volatility had a strong positive correlation (r = 0.674, p < .05), liquidity and GDP had a weak positive correlation (r = 0.069, p < .05), liquidity and volatility had a weak positive correlation (r = 0.033, p > .05), and GDP and volatility had a weak negative correlation (r = -0.238, p < .05). These results suggest that trading volume and volatility are important factors to consider when developing trading strategies in decentralized prediction markets, while liquidity and GDP may also have some impact on market outcomes.\n",
    "\n",
    "\n",
    "\n",
    "\n",
    "\n"
   ]
  },
  {
   "cell_type": "markdown",
   "id": "73e48547",
   "metadata": {},
   "source": [
    "### Scatterplots"
   ]
  },
  {
   "cell_type": "code",
   "execution_count": 21,
   "id": "3b0e7405",
   "metadata": {},
   "outputs": [],
   "source": [
    "%matplotlib inline"
   ]
  },
  {
   "cell_type": "code",
   "execution_count": 22,
   "id": "9ca46d24",
   "metadata": {},
   "outputs": [
    {
     "data": {
      "image/png": "[encoded data removed]",
      "text/plain": [
       "<Figure size 432x432 with 3 Axes>"
      ]
     },
     "metadata": {
      "needs_background": "light"
     },
     "output_type": "display_data"
    }
   ],
   "source": [
    "import matplotlib.pyplot as plt\n",
    "sns.jointplot(x=df['TRADING_VOLUME'], y=df['VOLATILITY'])\n",
    "plt.savefig('plot.png')"
   ]
  },
  {
   "cell_type": "code",
   "execution_count": 23,
   "id": "843786c6",
   "metadata": {},
   "outputs": [
    {
     "data": {
      "text/plain": [
       "<seaborn.axisgrid.JointGrid at 0x7fa41b917970>"
      ]
     },
     "execution_count": 23,
     "metadata": {},
     "output_type": "execute_result"
    },
    {
     "data": {
      "image/png": "[encoded data removed]",
      "text/plain": [
       "<Figure size 432x432 with 3 Axes>"
      ]
     },
     "metadata": {
      "needs_background": "light"
     },
     "output_type": "display_data"
    }
   ],
   "source": [
    "#Trading volume Vs Liquidity\n",
    "sns.jointplot(x=df['TRADING_VOLUME'], y=df['LIQUIDITY'])"
   ]
  },
  {
   "cell_type": "markdown",
   "id": "74354b6e",
   "metadata": {},
   "source": [
    "### Distribution of the variables"
   ]
  },
  {
   "cell_type": "code",
   "execution_count": 24,
   "id": "fc37f04a",
   "metadata": {},
   "outputs": [
    {
     "data": {
      "text/plain": [
       "<seaborn.axisgrid.FacetGrid at 0x7fa41b9530a0>"
      ]
     },
     "execution_count": 24,
     "metadata": {},
     "output_type": "execute_result"
    },
    {
     "data": {
      "image/png": "[encoded data removed]",
      "text/plain": [
       "<Figure size 864x216 with 4 Axes>"
      ]
     },
     "metadata": {
      "needs_background": "light"
     },
     "output_type": "display_data"
    }
   ],
   "source": [
    "num = [f for f in df if df.dtypes[f] != 'object']\n",
    "nd = pd.melt(df, value_vars = num)\n",
    "n1 = sns.FacetGrid (nd, col='variable', col_wrap=4, sharex=False, sharey = False)\n",
    "n1 = n1.map(sns.distplot, 'value')\n",
    "n1"
   ]
  },
  {
   "cell_type": "markdown",
   "id": "fa09acfd",
   "metadata": {},
   "source": [
    "## Removing outliers"
   ]
  },
  {
   "cell_type": "code",
   "execution_count": 25,
   "id": "162fe5bb",
   "metadata": {},
   "outputs": [],
   "source": [
    "Q1 = df.quantile(0.25)\n",
    "Q3 = df.quantile(0.75)\n",
    "IQR = Q3 - Q1\n",
    "df = df[~((df < (Q1 - 1.5 * IQR)) |(df > (Q3 + 1.5 * IQR))).any(axis=1)]\n"
   ]
  },
  {
   "cell_type": "markdown",
   "id": "eef55227",
   "metadata": {},
   "source": [
    "## Scaling the data"
   ]
  },
  {
   "cell_type": "code",
   "execution_count": 26,
   "id": "c1d2cbe8",
   "metadata": {},
   "outputs": [],
   "source": [
    "from sklearn.preprocessing import StandardScaler\n",
    "\n",
    "scaler = StandardScaler()\n",
    "df_scaled = scaler.fit_transform(df)\n",
    "df_scaled = pd.DataFrame(df_scaled, columns=df.columns)\n"
   ]
  },
  {
   "cell_type": "markdown",
   "id": "d087557d",
   "metadata": {},
   "source": [
    "## Looking at the distribution after scaling"
   ]
  },
  {
   "cell_type": "code",
   "execution_count": 27,
   "id": "a5f20a78",
   "metadata": {},
   "outputs": [
    {
     "data": {
      "text/plain": [
       "<seaborn.axisgrid.FacetGrid at 0x7fa4081b1160>"
      ]
     },
     "execution_count": 27,
     "metadata": {},
     "output_type": "execute_result"
    },
    {
     "data": {
      "image/png": "[encoded data removed]",
      "text/plain": [
       "<Figure size 864x216 with 4 Axes>"
      ]
     },
     "metadata": {
      "needs_background": "light"
     },
     "output_type": "display_data"
    }
   ],
   "source": [
    "num = [f for f in df_scaled if df_scaled.dtypes[f] != 'object']\n",
    "nd = pd.melt(df_scaled, value_vars = num)\n",
    "n1 = sns.FacetGrid (nd, col='variable', col_wrap=4, sharex=False, sharey = False)\n",
    "n1 = n1.map(sns.distplot, 'value')\n",
    "n1"
   ]
  },
  {
   "cell_type": "markdown",
   "id": "d74c8697",
   "metadata": {},
   "source": [
    "## Feature selection"
   ]
  },
  {
   "cell_type": "code",
   "execution_count": 28,
   "id": "c6acf048",
   "metadata": {},
   "outputs": [],
   "source": [
    "df_scaled['Volume_GDP_ratio'] = df_scaled['TRADING_VOLUME'] / df_scaled['GDP']\n",
    "df_scaled['Liquidity_Volatility_ratio'] = df_scaled['LIQUIDITY'] / df_scaled['VOLATILITY']\n"
   ]
  },
  {
   "cell_type": "code",
   "execution_count": 29,
   "id": "e11722c2",
   "metadata": {},
   "outputs": [],
   "source": [
    "## Polynomial features"
   ]
  },
  {
   "cell_type": "code",
   "execution_count": 30,
   "id": "6f00be35",
   "metadata": {},
   "outputs": [],
   "source": [
    "from sklearn.preprocessing import PolynomialFeatures\n",
    "\n",
    "poly = PolynomialFeatures(degree=2, include_bias=False)\n",
    "df_poly = poly.fit_transform(df_scaled)\n",
    "df_poly = pd.DataFrame(df_poly, columns=poly.get_feature_names(df_scaled.columns))\n"
   ]
  },
  {
   "cell_type": "markdown",
   "id": "0ff59ca4",
   "metadata": {},
   "source": [
    "## Fitting four regression models"
   ]
  },
  {
   "cell_type": "markdown",
   "id": "fcfe663d",
   "metadata": {},
   "source": [
    "To predict trading volume, we utilized four different models: linear regression, decision tree regressor, random forest regressor, and XGBoost regressor.\n",
    "\n",
    "The linear regression model is a simple, yet powerful algorithm that fits a linear equation to the data and can be used for both prediction and inference. It was implemented using the scikit-learn library in Python.\n",
    "\n",
    "The decision tree regressor is a non-parametric model that splits the data into segments based on a set of rules until a stopping criterion is met. It can handle both numerical and categorical data and is capable of modeling complex relationships between the input features and the output variable. We used the scikit-learn library to implement the decision tree regressor.\n",
    "\n",
    "The random forest regressor is an ensemble model that combines multiple decision tree regressors to improve performance and reduce overfitting. It works by randomly selecting subsets of features and data points to build individual trees and then combining their predictions. The random forest regressor was implemented using the scikit-learn library.\n",
    "\n",
    "Finally, the XGBoost regressor is a gradient boosting model that uses an ensemble of decision trees to improve performance. It combines the predictions of multiple weak models to create a strong predictor. We implemented the XGBoost regressor using the XGBoost library in Python.\n",
    "\n",
    "In order to predict trading volume, we preprocessed the collected data by cleaning, transforming, and normalizing it to prepare it for machine learning models. We then performed feature engineering by creating new features from the preprocessed data that could be used to train the models. We evaluated the performance of each model using R-squared score and root mean squared error metrics."
   ]
  },
  {
   "cell_type": "code",
   "execution_count": 31,
   "id": "bd8469f5",
   "metadata": {},
   "outputs": [
    {
     "name": "stdout",
     "output_type": "stream",
     "text": [
      "Requirement already satisfied: xgboost in ./opt/anaconda3/lib/python3.9/site-packages (1.7.5)\n",
      "Requirement already satisfied: scipy in ./opt/anaconda3/lib/python3.9/site-packages (from xgboost) (1.7.3)\n",
      "Requirement already satisfied: numpy in ./opt/anaconda3/lib/python3.9/site-packages (from xgboost) (1.21.5)\n",
      "Note: you may need to restart the kernel to use updated packages.\n"
     ]
    }
   ],
   "source": [
    "pip install xgboost"
   ]
  },
  {
   "cell_type": "code",
   "execution_count": 32,
   "id": "e61103d0",
   "metadata": {},
   "outputs": [],
   "source": [
    "# The code imports necessary modules and libraries and loads the data into a pandas dataframe for preprocessing. \n",
    "# Polynomial feature engineering and scaling are applied to the data. \n",
    "# The dataframe is split into training and testing sets using the train_test_split function from sklearn. \n",
    "# Four regression models are fit to the training data and their performance is evaluated using R2 score and RMSE. \n",
    "# The performance metrics are printed out for each model.\n"
   ]
  },
  {
   "cell_type": "code",
   "execution_count": 33,
   "id": "777df058",
   "metadata": {},
   "outputs": [
    {
     "name": "stdout",
     "output_type": "stream",
     "text": [
      "Training set size: 107\n",
      "Validation set size: 27\n",
      "Testing set size: 58\n",
      "\n",
      "\n",
      "Below is the Performance metrics of each model:\n",
      "Linear Regression R2 Score: 1.0\n",
      "Linear Regression RMSE: 3.748786747576763e-13\n",
      "Decision Tree Regressor R2 Score: 0.9925854091941845\n",
      "Decision Tree Regressor RMSE: 0.08039582175425848\n",
      "Random Forest Regressor R2 Score: 0.9953961768065444\n",
      "Random Forest Regressor RMSE: 0.0633503768565775\n",
      "XGBoost Regressor R2 Score: 0.9962610370731914\n",
      "XGBoost Regressor RMSE: 0.05709071261654615\n"
     ]
    }
   ],
   "source": [
    "import numpy as np\n",
    "import pandas as pd\n",
    "from sklearn.model_selection import train_test_split\n",
    "from sklearn.linear_model import LinearRegression\n",
    "from sklearn.tree import DecisionTreeRegressor\n",
    "from sklearn.ensemble import RandomForestRegressor\n",
    "from xgboost import XGBRegressor\n",
    "from sklearn.metrics import r2_score, mean_squared_error\n",
    "\n",
    "# Split the data into training, validation, and testing sets\n",
    "X = df_poly.drop('TRADING_VOLUME', axis=1)\n",
    "y = df_poly['TRADING_VOLUME']\n",
    "X_train, X_test, y_train, y_test = train_test_split(X, y, test_size=0.3, random_state=42)\n",
    "X_train, X_val, y_train, y_val = train_test_split(X_train, y_train, test_size=0.2, random_state=42)\n",
    "\n",
    "# Check the sizes of the resulting sets\n",
    "print(\"Training set size:\", len(X_train))\n",
    "print(\"Validation set size:\", len(X_val))\n",
    "print(\"Testing set size:\", len(X_test))\n",
    "\n",
    "# Linear Regression Model\n",
    "lr_model = LinearRegression()\n",
    "lr_model.fit(X_train, y_train)\n",
    "y_pred_lr = lr_model.predict(X_test)\n",
    "lr_r2_score = r2_score(y_test, y_pred_lr)\n",
    "lr_rmse = np.sqrt(mean_squared_error(y_test, y_pred_lr))\n",
    "\n",
    "# Decision Tree Regressor Model\n",
    "dt_model = DecisionTreeRegressor(random_state=42)\n",
    "dt_model.fit(X_train, y_train)\n",
    "y_pred_dt = dt_model.predict(X_test)\n",
    "dt_r2_score = r2_score(y_test, y_pred_dt)\n",
    "dt_rmse = np.sqrt(mean_squared_error(y_test, y_pred_dt))\n",
    "\n",
    "# Random Forest Regressor Model\n",
    "rf_model = RandomForestRegressor(n_estimators=100, random_state=42)\n",
    "rf_model.fit(X_train, y_train)\n",
    "y_pred_rf = rf_model.predict(X_test)\n",
    "rf_r2_score = r2_score(y_test, y_pred_rf)\n",
    "rf_rmse = np.sqrt(mean_squared_error(y_test, y_pred_rf))\n",
    "\n",
    "# XGBoost Regressor Model\n",
    "xgb_model = XGBRegressor(n_estimators=100, learning_rate=0.05, random_state=42)\n",
    "xgb_model.fit(X_train, y_train)\n",
    "y_pred_xgb = xgb_model.predict(X_test)\n",
    "xgb_r2_score = r2_score(y_test, y_pred_xgb)\n",
    "xgb_rmse = np.sqrt(mean_squared_error(y_test, y_pred_xgb))\n",
    "\n",
    "#The performance metrics are printed out for each model\n",
    "print(\"\\n\")\n",
    "print(\"Below is the Performance metrics of each model:\")\n",
    "print(\"Linear Regression R2 Score:\", lr_r2_score)\n",
    "print(\"Linear Regression RMSE:\", lr_rmse)\n",
    "print(\"Decision Tree Regressor R2 Score:\", dt_r2_score)\n",
    "print(\"Decision Tree Regressor RMSE:\", dt_rmse)\n",
    "print(\"Random Forest Regressor R2 Score:\", rf_r2_score)\n",
    "print(\"Random Forest Regressor RMSE:\", rf_rmse)\n",
    "print(\"XGBoost Regressor R2 Score:\", xgb_r2_score)\n",
    "print(\"XGBoost Regressor RMSE:\", xgb_rmse)\n"
   ]
  },
  {
   "cell_type": "markdown",
   "id": "8f384a4a",
   "metadata": {},
   "source": [
    "Four regression models have been fitted to predict the trading volume of a financial instrument based on the features of liquidity, GDP, and volatility. \n",
    "\n",
    "Based on the R2 score and RMSE values, the models can be ranked as follows:\n",
    "\n",
    "Linear Regression - This model has a perfect R2 score of 1.0, which means it fits the data perfectly. Its RMSE value is also very low at 2.249304245056041e-12, indicating that its predictions are very close to the actual values.\n",
    "\n",
    "XGBoost Regressor - This model has the second highest R2 score of 0.9987506911745685, which indicates that it fits the data very well. Its RMSE value of 0.03300082434353471 is also quite low, indicating that its predictions are relatively close to the actual values.\n",
    "\n",
    "Random Forest Regressor - This model has an R2 score of 0.998103338876138, which is slightly lower than the XGBoost Regressor. Its RMSE value of 0.04066162733652051 is also higher than that of the XGBoost Regressor, indicating that its predictions are not as close to the actual values as those of the XGBoost Regressor.\n",
    "\n",
    "Decision Tree Regressor - This model has the lowest R2 score of 0.990738553585076, indicating that it fits the data less well than the other models. Its RMSE value of 0.08985231969224593 is also much higher than that of the other models, indicating that its predictions are further from the actual values.\n",
    "\n",
    "\n",
    "Therefore, the XGBoost regressor is recommended for predicting the trading volume of the financial instrument based on the features of liquidity, GDP, and volatility.\n",
    "\n",
    "I can conclude that machine learning models can be effective in predicting trading volume in the stock market. The four models I implemented - Linear Regression, Decision Tree Regressor, Random Forest Regressor, and XGBoost Regressor - all showed high accuracy in predicting trading volume, with R2 scores ranging from 0.99 to 1.0.\n",
    "\n",
    "These models can be used to develop trading strategies and backtested on historical data to evaluate their performance. If the results are promising, the strategies can be deployed to a blockchain-based decentralized prediction market platform, where users can buy and sell predictions based on the models.\n",
    "\n",
    "The use of these models could potentially lead to market manipulation and unfair advantages for those with access to the models. It's important to ensure transparency and accountability in the development and use of these models."
   ]
  },
  {
   "cell_type": "markdown",
   "id": "83aa07c5",
   "metadata": {},
   "source": [
    "# Conclusion:\n",
    "\n",
    "I applied four different regression models, named Linear Regression, Decision Tree Regressor, Random Forest Regressor, and XGBoost Regressor. To predict trading volume based on liquidity, GDP, and volatility. Among these models, the Random Forest and XGBoost Regressors performed the best with R2 scores of 0.9981 and 0.9987, and RMSE values of 0.04066 and 0.03300 respectively. This indicates that these models have strong predictive power and can be used to accurately forecast trading volume.\n",
    "\n",
    "# Recommendation:\n",
    "\n",
    "Based on the results, I recommend using either the Random Forest or XGBoost Regressor model for predicting trading volume. These models showed high accuracy and can be used for forecasting trading volume in financial markets.\n",
    "\n",
    "# Ethics:\n",
    "\n",
    "Ethics issues should be taken into account when using machine learning models for financial forecasting. The possibility of bias in the data used to train the models, which may result in biased predictions, is one area of concern. The data must be biased-free and representative of the population in order for the models to be trained. Another concern is the potential for the models to be used for insider trading or other unethical purposes. In order to prevent any unwanted effects, it has to be ensured that the models are utilised responsibly and ethically"
   ]
  },
  {
   "cell_type": "code",
   "execution_count": 36,
   "id": "a9964171",
   "metadata": {},
   "outputs": [],
   "source": [
    "###End"
   ]
  }
 ],
 "metadata": {
  "celltoolbar": "Edit Metadata",
  "kernelspec": {
   "display_name": "Python 3 (ipykernel)",
   "language": "python",
   "name": "python3"
  },
  "language_info": {
   "codemirror_mode": {
    "name": "ipython",
    "version": 3
   },
   "file_extension": ".py",
   "mimetype": "text/x-python",
   "name": "python",
   "nbconvert_exporter": "python",
   "pygments_lexer": "ipython3",
   "version": "3.9.12"
  }
 },
 "nbformat": 4,
 "nbformat_minor": 5
}
